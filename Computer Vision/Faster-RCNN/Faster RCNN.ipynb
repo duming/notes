{
 "cells": [
  {
   "cell_type": "markdown",
   "metadata": {},
   "source": [
    "### Abstract \n",
    "\n",
    "+ Region proposal is a bottleneck.\n",
    "+ Introduce RPN(*Region Proposal Network*) that share full image convolution features with detection.\n",
    "+ RPN can be merged into Fast-RCNN and then become Faster-RCNN."
   ]
  }
 ],
 "metadata": {
  "kernelspec": {
   "display_name": "Python 3",
   "language": "python",
   "name": "python3"
  },
  "language_info": {
   "codemirror_mode": {
    "name": "ipython",
    "version": 3
   },
   "file_extension": ".py",
   "mimetype": "text/x-python",
   "name": "python",
   "nbconvert_exporter": "python",
   "pygments_lexer": "ipython3",
   "version": "3.4.3"
  }
 },
 "nbformat": 4,
 "nbformat_minor": 2
}
