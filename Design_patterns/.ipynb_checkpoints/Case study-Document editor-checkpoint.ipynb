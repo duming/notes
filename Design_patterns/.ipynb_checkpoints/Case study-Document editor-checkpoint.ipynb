{
 "cells": [
  {
   "cell_type": "markdown",
   "metadata": {},
   "source": [
    "### Problem: Document Editor Design\n",
    "   #### subproblems\n",
    "   - Document structure\n",
    "   - Formating\n",
    "   - Embellishing user interface\n",
    "   - Supporting multi look-and-feel standard\n",
    "   - Supporting multiple window systems\n",
    "   - User operations\n",
    "   - Spelling checking\n",
    "        \n",
    "    \n",
    "#### Solutions for \n",
    "##### Document structure\n",
    "1. Needs: \n",
    " 1. Maintaining the document's physical structure\n",
    " 2. Generating and presenting the document visually\n",
    " 3. Mapping positions on the display to elements in the internal representation \n",
    "2. Pattern: Composite Pattern\n",
    "Using recursive composition can represent any poteintially complex, hierachical structure.\n",
    "        \n",
    "##### Formatting\n",
    "    1. Needs: Supporting different formatting algorithms.\n",
    "    2. Pattern: Strategy pattern\n",
    "        a. let the client use algorithms through a interface.\n",
    "        b. let algorithms get the context through the interface.\n",
    "        \n",
    "##### Embellishing user interface\n",
    "1. Needs: Add different affects when visualizing the documents, and don't mess with the document structures in the same time.\n",
    "2. Patterns: Decorator\n",
    "By using **transparent enclosure**, decorator pattern add responsibilities to the original object without making different to the user of the object.\n",
    "\n",
    "##### Supporting multiple look-and-feel standard\n",
    "1. Needs: Creating diffrent styles of objects for same purpose. Easy replacement.\n",
    "2. Pattern: Abstract Factory\n",
    "Using a abstract class as an interface to create objects. Using subclasses to instantiating different styles of objects."
   ]
  },
  {
   "cell_type": "code",
   "execution_count": null,
   "metadata": {
    "collapsed": true
   },
   "outputs": [],
   "source": []
  }
 ],
 "metadata": {
  "kernelspec": {
   "display_name": "Python 3",
   "language": "python",
   "name": "python3"
  },
  "language_info": {
   "codemirror_mode": {
    "name": "ipython",
    "version": 3
   },
   "file_extension": ".py",
   "mimetype": "text/x-python",
   "name": "python",
   "nbconvert_exporter": "python",
   "pygments_lexer": "ipython3",
   "version": "3.4.3"
  }
 },
 "nbformat": 4,
 "nbformat_minor": 2
}
