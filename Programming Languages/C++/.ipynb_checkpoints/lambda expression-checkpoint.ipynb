{
 "cells": [
  {
   "cell_type": "markdown",
   "metadata": {},
   "source": [
    "### What is lambda expression in C++\n",
    ">Lambda expression is a convenient way of defining an anonymous function object right at the location where it is invoked or passed as an argument to a function. Typically lambdas are used to encapsulate a few lines of code that are passed to algorithms or asynchronous methods. \n",
    "\n",
    "https://msdn.microsoft.com/en-us/library/dd293608.aspx\n",
    "\n",
    "---"
   ]
  },
  {
   "cell_type": "markdown",
   "metadata": {},
   "source": [
    "<img src=\"lambda1.png\" width=\"30%\" />\n",
    "\n",
    "Above figure illustrate the parts of lambda.\n",
    "\n",
    "1. capture clause (Also known as the lambda-introducer in the C++ specification.)\n",
    "2. parameter list Optional. (Also known as the lambda declarator)\n",
    "3. mutable specification Optional.\n",
    "4. exception-specification Optional.\n",
    "5. trailing-return-type Optional.\n",
    "6. lambda body.\n",
    "\n",
    "---\n"
   ]
  },
  {
   "cell_type": "markdown",
   "metadata": {},
   "source": [
    "#### Capture Clause\n",
    "\n",
    "+ An empty capture clause, [ ], indicates that the body of the lambda expression accesses no variables in the enclosing scope.\n",
    "+ [&] means all variables that you refer to are captured by reference, and [=] means they are captured by value\n",
    "+ You can use a default capture mode, and then specify the opposite mode explicitly for specific variables.\n",
    "\n"
   ]
  }
 ],
 "metadata": {
  "kernelspec": {
   "display_name": "Python 3",
   "language": "python",
   "name": "python3"
  },
  "language_info": {
   "codemirror_mode": {
    "name": "ipython",
    "version": 3
   },
   "file_extension": ".py",
   "mimetype": "text/x-python",
   "name": "python",
   "nbconvert_exporter": "python",
   "pygments_lexer": "ipython3",
   "version": "3.4.3"
  }
 },
 "nbformat": 4,
 "nbformat_minor": 2
}
