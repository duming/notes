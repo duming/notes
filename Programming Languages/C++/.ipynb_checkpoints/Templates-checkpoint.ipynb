{
 "cells": [
  {
   "cell_type": "markdown",
   "metadata": {},
   "source": [
    "### Template  specialization\n",
    "\n",
    "#### What is this?\n",
    "Define a specific implementation for a specific template type.\n",
    "\n",
    "#### Why \n",
    ">If we want to define a different implementation for a template when a specific type is passed as template parameter, we can declare a specialization of that template.\n",
    "\n",
    "#### How\n",
    "```c++\n",
    "\n",
    "template <> class mycontainer <char> { ... };\n",
    "\n",
    "\n",
    "```\n",
    "\n",
    "#### Example\n",
    "```c++\n",
    "// template specialization\n",
    "#include <iostream>\n",
    "using namespace std;\n",
    "\n",
    "// class template:\n",
    "template <class T>\n",
    "class mycontainer {\n",
    "    T element;\n",
    "  public:\n",
    "    mycontainer (T arg) {element=arg;}\n",
    "    T increase () {return ++element;}\n",
    "};\n",
    "\n",
    "// class template specialization:\n",
    "template <>\n",
    "class mycontainer <char> {\n",
    "    char element;\n",
    "  public:\n",
    "    mycontainer (char arg) {element=arg;}\n",
    "    char uppercase ()\n",
    "    {\n",
    "      if ((element>='a')&&(element<='z'))\n",
    "      element+='A'-'a';\n",
    "      return element;\n",
    "    }\n",
    "};\n",
    "\n",
    "int main () {\n",
    "  mycontainer<int> myint (7);\n",
    "  mycontainer<char> mychar ('j');\n",
    "  cout << myint.increase() << endl;\n",
    "  cout << mychar.uppercase() << endl;\n",
    "  return 0;\n",
    "}\n",
    "```"
   ]
  },
  {
   "cell_type": "code",
   "execution_count": null,
   "metadata": {
    "collapsed": true
   },
   "outputs": [],
   "source": []
  }
 ],
 "metadata": {
  "kernelspec": {
   "display_name": "Python 3",
   "language": "python",
   "name": "python3"
  },
  "language_info": {
   "codemirror_mode": {
    "name": "ipython",
    "version": 3
   },
   "file_extension": ".py",
   "mimetype": "text/x-python",
   "name": "python",
   "nbconvert_exporter": "python",
   "pygments_lexer": "ipython3",
   "version": "3.4.3"
  }
 },
 "nbformat": 4,
 "nbformat_minor": 2
}
