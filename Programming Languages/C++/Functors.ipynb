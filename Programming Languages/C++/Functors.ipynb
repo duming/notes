{
 "cells": [
  {
   "cell_type": "markdown",
   "metadata": {},
   "source": [
    "Definition from stackoverflow: https://stackoverflow.com/questions/356950/c-functors-and-their-uses\n",
    ">A functor is pretty much just a class which defines the operator(). That lets you create objects which \"look like\" a function:\n",
    "\n",
    "\n",
    "```c++\n",
    "// this is a functor\n",
    "struct add_x {\n",
    "  add_x(int x) : x(x) {}\n",
    "  int operator()(int y) const { return x + y; }\n",
    "\n",
    "private:\n",
    "  int x;\n",
    "};\n",
    "\n",
    "// Now you can use it like this:\n",
    "add_x add42(42); // create an instance of the functor class\n",
    "int i = add42(8); // and \"call\" it\n",
    "assert(i == 50); // and it added 42 to its argument\n",
    "\n",
    "std::vector<int> in; // assume this contains a bunch of values)\n",
    "std::vector<int> out(in.size());\n",
    "// Pass a functor to std::transform, which calls the functor on every element \n",
    "// in the input sequence, and stores the result to the output sequence\n",
    "std::transform(in.begin(), in.end(), out.begin(), add_x(1)); \n",
    "assert(out[i] == in[i] + 1); // for all i\n",
    "```\n",
    "\n",
    ">There are a couple of nice things about functors. One is that unlike regular functions, they can contain state. The above example creates a function which adds 42 to whatever you give it. But that value 42 is not hardcoded, it was specified as a constructor argument when we created our functor instance. I could create another adder, which added 27, just by calling the constructor with a different value. This makes them nicely customizable."
   ]
  },
  {
   "cell_type": "code",
   "execution_count": null,
   "metadata": {
    "collapsed": true
   },
   "outputs": [],
   "source": []
  }
 ],
 "metadata": {
  "kernelspec": {
   "display_name": "Python 3",
   "language": "python",
   "name": "python3"
  },
  "language_info": {
   "codemirror_mode": {
    "name": "ipython",
    "version": 3
   },
   "file_extension": ".py",
   "mimetype": "text/x-python",
   "name": "python",
   "nbconvert_exporter": "python",
   "pygments_lexer": "ipython3",
   "version": "3.4.3"
  }
 },
 "nbformat": 4,
 "nbformat_minor": 2
}
