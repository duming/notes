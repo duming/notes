{
 "cells": [
  {
   "cell_type": "markdown",
   "metadata": {},
   "source": [
    "### Adding a New Op\n",
    "\n",
    "#### Reasons:\n",
    "\n",
    " + It's not easy or possible to express your operation as a composition of existing ops.\n",
    " + It's not efficient to express your operation as a composition of existing primitives.\n",
    " + You want to hand-fuse a composition of primitives that a future compiler would find difficult fusing.\n",
    "\n",
    "#### How\n",
    " + Register the new op in a C++ file.\n",
    " + Implement the op in C++. Need different version for GPU/CPU.\n",
    " + Create a Python wrapper.\n",
    " + Write a function to compute gradients for the op (optional).\n",
    " + Test the op. If you define gradients, you can verify them with the Python gradient checker.\n",
    " \n",
    "\n",
    "#### Details for each steps.\n",
    "\n",
    "##### How to register the new op?\n",
    "```c++\n",
    "#include \"tensorflow/core/framework/op.h\"\n",
    "#include \"tensorflow/core/framework/shape_inference.h\"\n",
    "\n",
    "using namespace tensorflow;\n",
    "\n",
    "REGISTER_OP(\"ZeroOut\")\n",
    "    .Input(\"to_zero: int32\")\n",
    "    .Output(\"zeroed: int32\")\n",
    "    .SetShapeFn([](::tensorflow::shape_inference::InferenceContext* c) {\n",
    "      c->set_output(0, c->input(0));\n",
    "      return Status::OK();\n",
    "    });\n",
    "```\n",
    "\n",
    "1. First need to include op.h. and shape_inference.h if shape inference is needed.\n",
    "2. Using the MACRO \"REGISTER_OP\".\n",
    "3. The only one thing need to be care is that the ```.SetShapeFn()``` took a function pointer as parameter. And usually we pass a lambda expression to it.\n",
    "\n",
    "```c++\n",
    "REGISTER_OP(\"my_op_name\")\n",
    "//     .Attr(\"<name>:<type>\")\n",
    "//     .Attr(\"<name>:<type>=<default>\")\n",
    "//     .Input(\"<name>:<type-expr>\")\n",
    "//     .Input(\"<name>:Ref(<type-expr>)\")\n",
    "//     .Output(\"<name>:<type-expr>\")\n",
    "//     .Doc(R\"(\n",
    "// <1-line summary>\n",
    "// <rest of the description (potentially many lines)>\n",
    "// <name-of-attr-input-or-output>: <description of name>\n",
    "// <name-of-attr-input-or-output>: <description of name;\n",
    "//   if long, indent the description on subsequent lines>\n",
    "// )\");\n",
    "//\n",
    "// Note: .Doc() should be last.\n",
    "// For details, see the OpDefBuilder class in op_def_builder.h.\n",
    "```\n",
    "\n",
    "---"
   ]
  },
  {
   "cell_type": "markdown",
   "metadata": {},
   "source": [
    "##### Implement the kernel for the op"
   ]
  },
  {
   "cell_type": "code",
   "execution_count": null,
   "metadata": {
    "collapsed": true
   },
   "outputs": [],
   "source": []
  }
 ],
 "metadata": {
  "kernelspec": {
   "display_name": "Python 3",
   "language": "python",
   "name": "python3"
  },
  "language_info": {
   "codemirror_mode": {
    "name": "ipython",
    "version": 3
   },
   "file_extension": ".py",
   "mimetype": "text/x-python",
   "name": "python",
   "nbconvert_exporter": "python",
   "pygments_lexer": "ipython3",
   "version": "3.4.3"
  }
 },
 "nbformat": 4,
 "nbformat_minor": 2
}
