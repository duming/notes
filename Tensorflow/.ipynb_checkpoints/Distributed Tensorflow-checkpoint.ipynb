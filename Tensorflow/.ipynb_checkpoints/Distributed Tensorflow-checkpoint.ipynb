{
 "cells": [
  {
   "cell_type": "markdown",
   "metadata": {},
   "source": [
    "### How to create a cluster.\n",
    "1. start one TensorFlow server per task in the cluster.\n",
    "2. In each task do the following.\n",
    "  1. Create a ```tf.train.ClusterSpec``` that describes all of the tasks in the cluster. This should be the same for each task.\n",
    "  2. Create a ```tf.train.Server```, passing the ```tf.train.ClusterSpec``` to the constructor, and identifying the local task with a job name and task index.\n",
    "  \n",
    "---  \n",
    "\n",
    "### Replicated training\n",
    "\n",
    "#### In-graph replication.\n",
    "Good for small number of replications, eg. different GPUs in a single computer.\n",
    "<img src=\"In-graph.png\" width=\"50%\" /> \n",
    "\n",
    "example: https://gist.github.com/yaroslavvb/ef407a599f0f549f62d91c3a00dcfb6c\n",
    "\n",
    "#### Between-graph replication\n",
    "<img src=\"Between-graph.png\" width=\"50%\" />\n",
    "\n",
    "This method is recommended by Tensorflow dev-group. The difference between these two methods is that In-graph replica has all the network in one graph. And Between-graph replica has different multiple graphs for multiple machines."
   ]
  },
  {
   "cell_type": "markdown",
   "metadata": {},
   "source": [
    "---\n",
    "**RPC(remote procedure call)**\n",
    "From wikipedia\n",
    ">In distributed computing, a remote procedure call (RPC) is when a computer program causes a procedure (subroutine) to execute in a different address space (commonly on another computer on a shared network), which is coded as if it were a normal (local) procedure call, without the programmer explicitly coding the details for the remote interaction. That is, **the programmer writes essentially the same code whether the subroutine is local to the executing program, or remote**.[1] This is a form of client–server interaction (caller is client, executor is server), typically implemented via a request–response message-passing system. In the object-oriented programming paradigm, RPC calls are represented by remote method invocation (RMI). The RPC model implies a level of location transparency, namely that calling procedures is largely the same whether it is local or remote, but usually they are not identical, so local calls can be distinguished from remote calls. Remote calls are **usually orders of magnitude slower and less reliable than local calls**, so distinguishing them is important.\n",
    "\n",
    "**gRPC(google RPC)**\n",
    ">gRPC is an open source remote procedure call (RPC) system initially developed at Google. It uses HTTP/2 for transport, Protocol Buffers as the interface description language, and provides features such as authentication, bidirectional streaming and flow control, blocking or nonblocking bindings, and cancellation and timeouts. It generates cross-platform client and server bindings for many languages.\n",
    "\n",
    "**Client**\n",
    "\n",
    ">A client is typically a program that builds a TensorFlow graph and constructs a tensorflow::Session to interact with a cluster. Clients are typically written in Python or C++. A single client process can directly interact with multiple TensorFlow servers (see \"Replicated training\" above), and a single server can serve multiple clients.\n",
    "\n",
    "\n",
    "\n",
    "--- \n",
    "\n",
    "There are a lot of questions need to be anwsered in this topic. See: https://stackoverflow.com/questions/41600321/distributed-tensorflow-the-difference-between-in-graph-replication-and-between"
   ]
  },
  {
   "cell_type": "code",
   "execution_count": null,
   "metadata": {
    "collapsed": true
   },
   "outputs": [],
   "source": []
  }
 ],
 "metadata": {
  "kernelspec": {
   "display_name": "Python 3",
   "language": "python",
   "name": "python3"
  },
  "language_info": {
   "codemirror_mode": {
    "name": "ipython",
    "version": 3
   },
   "file_extension": ".py",
   "mimetype": "text/x-python",
   "name": "python",
   "nbconvert_exporter": "python",
   "pygments_lexer": "ipython3",
   "version": "3.4.3"
  }
 },
 "nbformat": 4,
 "nbformat_minor": 2
}
