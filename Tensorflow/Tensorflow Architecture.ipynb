{
 "cells": [
  {
   "cell_type": "markdown",
   "metadata": {},
   "source": [
    "### Purpose\n",
    "\n",
    ">We designed TensorFlow for **large-scale distributed training and inference**, but it is also **flexible** enough to support experimentation with new machine learning models and system-level optimizations.\n",
    "\n",
    "---"
   ]
  },
  {
   "cell_type": "markdown",
   "metadata": {},
   "source": [
    "<img src=\"TF_architecture1.png\" width=\"50%\" />\n",
    "\n",
    "**Client**:\n",
    "    \n",
    " + Defines the computation as a dataflow graph.\n",
    " + Initiates graph execution using a session\n",
    " \n",
    " *In above figure, there are a python client and a C++ client. According to official documentation, currently most **training libraries are python-only**, and **C++ library support efficient inference**.*\n",
    "\n",
    "**Distributed Master(Still need more infomation about this)**\n",
    " \n",
    " + Prunes a specific subgraph from the graph, as defined by the arguments to Session.run().\n",
    " + Partitions the subgraph into multiple pieces that run in different processes and devices.\n",
    " + Distributes the graph pieces to worker services.\n",
    " + Initiates graph piece execution by worker services.\n",
    "\n",
    "*** What is the difference between Client and Distributed master?***\n",
    "\n",
    "*** How to use it in tensorflow?**\n",
    "\n",
    "**Worker Services (one for each task)**\n",
    "\n",
    " + Schedule the execution of graph operations using kernel implementations appropriate to the available hardware (CPUs, GPUs, etc).\n",
    " + Send and receive operation results to and from other worker services.\n",
    "\n",
    "**Kernel Implementations**\n",
    "\n",
    " + Perform the computation for individual graph operations."
   ]
  },
  {
   "cell_type": "markdown",
   "metadata": {},
   "source": [
    "**GPU streams**\n",
    "\n",
    "**peer-to-peer DMA**\n",
    "\n",
    "**RDMA**"
   ]
  }
 ],
 "metadata": {
  "kernelspec": {
   "display_name": "Python 3",
   "language": "python",
   "name": "python3"
  },
  "language_info": {
   "codemirror_mode": {
    "name": "ipython",
    "version": 3
   },
   "file_extension": ".py",
   "mimetype": "text/x-python",
   "name": "python",
   "nbconvert_exporter": "python",
   "pygments_lexer": "ipython3",
   "version": "3.4.3"
  }
 },
 "nbformat": 4,
 "nbformat_minor": 2
}
